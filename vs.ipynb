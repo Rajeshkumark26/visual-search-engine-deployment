{
 "cells": [
  {
   "cell_type": "code",
   "execution_count": 1,
   "id": "cathedral-resort",
   "metadata": {},
   "outputs": [
    {
     "name": "stdout",
     "output_type": "stream",
     "text": [
      "WARNING:tensorflow:From C:\\Users\\Rajesh Kumar K\\miniconda3\\envs\\vs\\lib\\site-packages\\tensorflow\\python\\ops\\init_ops.py:1251: calling VarianceScaling.__init__ (from tensorflow.python.ops.init_ops) with dtype is deprecated and will be removed in a future version.\n",
      "Instructions for updating:\n",
      "Call initializer instance with the dtype argument instead of passing it to the constructor\n"
     ]
    }
   ],
   "source": [
    "from tensorflow.keras.applications.resnet50 import ResNet50\n",
    "from tensorflow.keras.preprocessing import image\n",
    "from tensorflow.keras.applications.resnet50 import preprocess_input,decode_predictions\n",
    "from tensorflow.keras.models import Model,model_from_json\n",
    "import numpy as np\n",
    "import json\n",
    "\n",
    "model = ResNet50(weights='imagenet', include_top=True)\n",
    "model=Model(inputs=model.input,outputs=model.layers[-2].output)\n",
    "# model.summary()\n",
    "\n",
    "# img_path = 'elephant.jpg'\n",
    "# img = image.load_img(img_path, target_size=(224, 224))\n",
    "# print(type(img))\n",
    "# x = image.img_to_array(img)\n",
    "# x = np.expand_dims(x, axis=0)\n",
    "# x = preprocess_input(x)\n",
    "\n",
    "# features = model.predict(x).reshape(-1)\n"
   ]
  },
  {
   "cell_type": "code",
   "execution_count": 2,
   "id": "electrical-small",
   "metadata": {},
   "outputs": [],
   "source": [
    "model_json=model.to_json()\n",
    "with open('./models/resnet50.json','w') as f:\n",
    "    f.write(model_json)"
   ]
  },
  {
   "cell_type": "code",
   "execution_count": 8,
   "id": "unavailable-communication",
   "metadata": {},
   "outputs": [],
   "source": [
    "model.save_weights('./models/resnet50.h5')"
   ]
  },
  {
   "cell_type": "code",
   "execution_count": 10,
   "id": "mechanical-kingston",
   "metadata": {},
   "outputs": [
    {
     "data": {
      "text/plain": [
       "52.608970165252686"
      ]
     },
     "execution_count": 10,
     "metadata": {},
     "output_type": "execute_result"
    }
   ],
   "source": [
    "import time\n",
    "st=time.time()\n",
    "with open('./models/resnet50.json','r') as f:\n",
    "    model_json=f.read()\n",
    "    \n",
    "model_new=model_from_json(model_json) \n",
    "model_new.load_weights('./models/resnet50.h5')\n",
    "time.time()-st"
   ]
  },
  {
   "cell_type": "code",
   "execution_count": null,
   "id": "convenient-technical",
   "metadata": {},
   "outputs": [],
   "source": [
    "with open('fashionmnist_model.json', 'r') as json_file:\n",
    "    json_savedModel= json_file.read()"
   ]
  },
  {
   "cell_type": "code",
   "execution_count": 2,
   "id": "steady-shooting",
   "metadata": {},
   "outputs": [
    {
     "data": {
      "text/plain": [
       "(100,)"
      ]
     },
     "execution_count": 2,
     "metadata": {},
     "output_type": "execute_result"
    }
   ],
   "source": [
    "import pandas as pd\n",
    "images=pd.read_csv('./images.csv')[:100]\n",
    "images=images['link'].to_numpy()\n",
    "images.shape"
   ]
  },
  {
   "cell_type": "code",
   "execution_count": null,
   "id": "negative-kelly",
   "metadata": {},
   "outputs": [],
   "source": []
  },
  {
   "cell_type": "code",
   "execution_count": 6,
   "id": "painted-village",
   "metadata": {},
   "outputs": [
    {
     "name": "stdout",
     "output_type": "stream",
     "text": [
      "0 http://assets.myntassets.com/v1/images/style/properties/7a5b82d1372a7a5c6de67ae7a314fd91_images.jpg\n",
      "1 http://assets.myntassets.com/v1/images/style/properties/4850873d0c417e6480a26059f83aac29_images.jpg\n",
      "2 http://assets.myntassets.com/v1/images/style/properties/Titan-Women-Silver-Watch_b4ef04538840c0020e4829ecc042ead1_images.jpg\n",
      "3 http://assets.myntassets.com/v1/images/style/properties/8153dc35d9a5420eeb93922067137db6_images.jpg\n",
      "4 http://assets.myntassets.com/v1/images/style/properties/Puma-Men-Grey-T-shirt_32668f8a61454d0cc028a808cf21b383_images.jpg\n",
      "5 http://assets.myntassets.com/v1/images/style/properties/9c1b19682ecf926c296f520d5d6e0972_images.jpg\n",
      "6 http://assets.myntassets.com/v1/images/style/properties/06e9d4231254fdb2c7fe967ad413ad7b_images.jpg\n",
      "7 http://assets.myntassets.com/v1/images/style/properties/45ddbc6a15140556214e15923244755b_images.jpg\n",
      "8 http://assets.myntassets.com/v1/images/style/properties/4ca8848ab441378a392d9d5bf0b0f3c7_images.jpg\n",
      "9 http://assets.myntassets.com/v1/images/style/properties/Skagen-Men-Black-Watch_4982b2b1a76a85a85c9adc8b4b2d523a_images.jpg\n"
     ]
    }
   ],
   "source": [
    "import multiprocessing\n",
    "multiprocessing.cpu_count()\n",
    "for idx,url in enumerate(images):\n",
    "    print(idx,url)"
   ]
  },
  {
   "cell_type": "code",
   "execution_count": null,
   "id": "diverse-evolution",
   "metadata": {},
   "outputs": [],
   "source": []
  },
  {
   "cell_type": "code",
   "execution_count": 10,
   "id": "protective-processor",
   "metadata": {},
   "outputs": [],
   "source": [
    "#fitting the nebours\n",
    "\n",
    "import requests\n",
    "import pickle\n",
    "from PIL import Image\n",
    "features=[]\n",
    "# list(map(lambda url:requests.get(url, stream=True).raw,images['link'].to_list()))\n",
    "count=0\n",
    "\n",
    "\n",
    "for url in images.tolist():\n",
    "    try:\n",
    "        im = Image.open(requests.get(url, stream=True).raw).resize((224,224))\n",
    "        x = image.img_to_array(im)\n",
    "        x = np.expand_dims(x, axis=0)\n",
    "        x = preprocess_input(x)\n",
    "        count=count+1\n",
    "        features.append(model.predict(x).reshape(-1))\n",
    "    except:\n",
    "        pass\n",
    "    \n",
    "pickle_out = open(\"./models/features.pkl\",\"wb\")\n",
    "pickle.dump(features, pickle_out)\n",
    "pickle_out.close()\n",
    "# import json\n",
    "# with open('./models/features.json','w') as f:\n",
    "#     json.dump(features,f)"
   ]
  },
  {
   "cell_type": "code",
   "execution_count": null,
   "id": "suitable-birthday",
   "metadata": {},
   "outputs": [],
   "source": [
    "print(len(features))\n",
    "from sklearn.neighbors import NearestNeighbors\n",
    "nei_clf =  NearestNeighbors(n_neighbors=5, algorithm='ball_tree').fit(np.array(features))"
   ]
  },
  {
   "cell_type": "code",
   "execution_count": 11,
   "id": "great-bridge",
   "metadata": {},
   "outputs": [
    {
     "data": {
      "text/plain": [
       "[]"
      ]
     },
     "execution_count": 11,
     "metadata": {},
     "output_type": "execute_result"
    }
   ],
   "source": [
    "import pickle \n",
    "\n",
    "\n",
    "# # Its important to use binary mode \n",
    "# knnPickle = open('knn.pkl', 'wb') \n",
    "\n",
    "# # source, destination \n",
    "# pickle.dump(nei_clf, knnPickle)   \n",
    "pickle.load(open(\"./models/features.pkl\",\"rb\"))\n"
   ]
  },
  {
   "cell_type": "code",
   "execution_count": 12,
   "id": "tribal-companion",
   "metadata": {},
   "outputs": [],
   "source": [
    "#predicting\n",
    "\n",
    "import matplotlib.pyplot as plt\n",
    "import requests\n",
    "from PIL import Image\n",
    "\n",
    "def get_similar(url):\n",
    "\n",
    "    im = Image.open(requests.get(url, stream=True).raw).resize((224,224))\n",
    "    x = image.img_to_array(im)\n",
    "    x = np.expand_dims(x, axis=0)\n",
    "    x = preprocess_input(x)\n",
    "    feature = model.predict(x).reshape(1,-1)\n",
    "    distances, indices = nei_clf.kneighbors(feature)\n",
    "    return distances[0],images[indices[0]].tolist()\n",
    "\n",
    "def show_similar(url):\n",
    "    \n",
    "    distances,neighbors = get_similar(url)\n",
    "    print('executed')\n",
    "    plt.figure(figsize=[8,7])\n",
    "    plt.subplot(1,4,1)\n",
    "    image=Image.open(requests.get(url, stream=True).raw).resize((224,224))\n",
    "    plt.imshow(image)\n",
    "    plt.title(\"Original image\")\n",
    "    \n",
    "    for i in range(3):\n",
    "        plt.subplot(1,4,i+2)\n",
    "        image=Image.open(requests.get(neighbors[i], stream=True).raw).resize((224,224))\n",
    "        plt.imshow(image)\n",
    "        plt.title(\"Dist=%.3f\"%distances[i])\n",
    "    plt.show()"
   ]
  },
  {
   "cell_type": "code",
   "execution_count": null,
   "id": "advised-dealing",
   "metadata": {},
   "outputs": [],
   "source": [
    "\n",
    "url=images.tolist()[20]\n",
    "show_similar(url)"
   ]
  },
  {
   "cell_type": "code",
   "execution_count": 16,
   "id": "permanent-northeast",
   "metadata": {},
   "outputs": [
    {
     "name": "stdout",
     "output_type": "stream",
     "text": [
      "[[ 0.         18.38328336 19.5475347  20.67243055 20.86277566]]\n",
      "[  17 8060 2168 7038 6579]\n"
     ]
    }
   ],
   "source": [
    "url=images.tolist()[17]\n",
    "nei_clf=pickle.load(open(\"./models/knn.pkl\",\"rb\"))\n",
    "im = Image.open(requests.get(url, stream=True).raw).resize((224,224))\n",
    "x = image.img_to_array(im)\n",
    "x = np.expand_dims(x, axis=0)\n",
    "x = preprocess_input(x)\n",
    "feature = model.predict(x).reshape(1,-1)\n",
    "distances, indices = nei_clf.kneighbors(feature)\n",
    "print(distances)\n",
    "print(indices[0])"
   ]
  },
  {
   "cell_type": "code",
   "execution_count": 7,
   "id": "assigned-china",
   "metadata": {},
   "outputs": [
    {
     "name": "stdout",
     "output_type": "stream",
     "text": [
      "WARNING:tensorflow:No training configuration found in save file: the model was *not* compiled. Compile it manually.\n"
     ]
    },
    {
     "ename": "NameError",
     "evalue": "name 'np' is not defined",
     "output_type": "error",
     "traceback": [
      "\u001b[1;31m---------------------------------------------------------------------------\u001b[0m",
      "\u001b[1;31mNameError\u001b[0m                                 Traceback (most recent call last)",
      "\u001b[1;32m<ipython-input-7-541d632410a4>\u001b[0m in \u001b[0;36m<module>\u001b[1;34m\u001b[0m\n\u001b[0;32m     16\u001b[0m \u001b[0mim\u001b[0m \u001b[1;33m=\u001b[0m \u001b[0mImage\u001b[0m\u001b[1;33m.\u001b[0m\u001b[0mopen\u001b[0m\u001b[1;33m(\u001b[0m\u001b[0mrequests\u001b[0m\u001b[1;33m.\u001b[0m\u001b[0mget\u001b[0m\u001b[1;33m(\u001b[0m\u001b[0murl\u001b[0m\u001b[1;33m,\u001b[0m \u001b[0mstream\u001b[0m\u001b[1;33m=\u001b[0m\u001b[1;32mTrue\u001b[0m\u001b[1;33m)\u001b[0m\u001b[1;33m.\u001b[0m\u001b[0mraw\u001b[0m\u001b[1;33m)\u001b[0m\u001b[1;33m.\u001b[0m\u001b[0mresize\u001b[0m\u001b[1;33m(\u001b[0m\u001b[1;33m(\u001b[0m\u001b[1;36m224\u001b[0m\u001b[1;33m,\u001b[0m\u001b[1;36m224\u001b[0m\u001b[1;33m)\u001b[0m\u001b[1;33m)\u001b[0m\u001b[1;33m\u001b[0m\u001b[1;33m\u001b[0m\u001b[0m\n\u001b[0;32m     17\u001b[0m \u001b[0mx\u001b[0m \u001b[1;33m=\u001b[0m \u001b[0mimage\u001b[0m\u001b[1;33m.\u001b[0m\u001b[0mimg_to_array\u001b[0m\u001b[1;33m(\u001b[0m\u001b[0mim\u001b[0m\u001b[1;33m)\u001b[0m\u001b[1;33m\u001b[0m\u001b[1;33m\u001b[0m\u001b[0m\n\u001b[1;32m---> 18\u001b[1;33m \u001b[0mx\u001b[0m \u001b[1;33m=\u001b[0m \u001b[0mnp\u001b[0m\u001b[1;33m.\u001b[0m\u001b[0mexpand_dims\u001b[0m\u001b[1;33m(\u001b[0m\u001b[0mx\u001b[0m\u001b[1;33m,\u001b[0m \u001b[0maxis\u001b[0m\u001b[1;33m=\u001b[0m\u001b[1;36m0\u001b[0m\u001b[1;33m)\u001b[0m\u001b[1;33m\u001b[0m\u001b[1;33m\u001b[0m\u001b[0m\n\u001b[0m\u001b[0;32m     19\u001b[0m \u001b[0mx\u001b[0m \u001b[1;33m=\u001b[0m \u001b[0mpreprocess_input\u001b[0m\u001b[1;33m(\u001b[0m\u001b[0mx\u001b[0m\u001b[1;33m)\u001b[0m\u001b[1;33m\u001b[0m\u001b[1;33m\u001b[0m\u001b[0m\n\u001b[0;32m     20\u001b[0m \u001b[0mfeature\u001b[0m \u001b[1;33m=\u001b[0m \u001b[0mmodel\u001b[0m\u001b[1;33m.\u001b[0m\u001b[0mpredict\u001b[0m\u001b[1;33m(\u001b[0m\u001b[0mx\u001b[0m\u001b[1;33m)\u001b[0m\u001b[1;33m.\u001b[0m\u001b[0mreshape\u001b[0m\u001b[1;33m(\u001b[0m\u001b[1;36m1\u001b[0m\u001b[1;33m,\u001b[0m\u001b[1;33m-\u001b[0m\u001b[1;36m1\u001b[0m\u001b[1;33m)\u001b[0m\u001b[1;33m\u001b[0m\u001b[1;33m\u001b[0m\u001b[0m\n",
      "\u001b[1;31mNameError\u001b[0m: name 'np' is not defined"
     ]
    }
   ],
   "source": [
    "from tensorflow.keras.applications.resnet50 import ResNet50\n",
    "from tensorflow.keras.preprocessing import image\n",
    "from tensorflow.keras.applications.resnet50 import preprocess_input,decode_predictions\n",
    "from tensorflow.keras.models import Model,load_model\n",
    "import requests\n",
    "from PIL import Image\n",
    "import pickle\n",
    "import pandas as pd\n",
    "\n",
    "images=pd.read_csv('./images.csv')['link'].to_numpy()\n",
    "\n",
    "model= load_model('./models/resnet50.h5')\n",
    "knn_model = pickle.load(open('./models/knn.pkl', 'rb'))\n",
    "\n",
    "url=images.tolist()[17]\n",
    "im = Image.open(requests.get(url, stream=True).raw).resize((224,224))\n",
    "x = image.img_to_array(im)\n",
    "x = np.expand_dims(x, axis=0)\n",
    "x = preprocess_input(x)\n",
    "feature = model.predict(x).reshape(1,-1)\n",
    "feature"
   ]
  }
 ],
 "metadata": {
  "kernelspec": {
   "display_name": "Python 3",
   "language": "python",
   "name": "python3"
  },
  "language_info": {
   "codemirror_mode": {
    "name": "ipython",
    "version": 3
   },
   "file_extension": ".py",
   "mimetype": "text/x-python",
   "name": "python",
   "nbconvert_exporter": "python",
   "pygments_lexer": "ipython3",
   "version": "3.7.9"
  }
 },
 "nbformat": 4,
 "nbformat_minor": 5
}
